{
 "cells": [
  {
   "cell_type": "code",
   "execution_count": 1,
   "metadata": {},
   "outputs": [],
   "source": [
    "import d2lzh as d2l\n",
    "from mxnet import gluon, init\n",
    "from mxnet.gluon import loss as gloss, nn\n",
    "from time import time"
   ]
  },
  {
   "cell_type": "code",
   "execution_count": 6,
   "metadata": {},
   "outputs": [],
   "source": [
    "net = nn.Sequential()\n",
    "net.add(nn.Dense(256, activation='relu'),\n",
    "        nn.Dense(10))\n",
    "net.initialize(init.Normal(sigma=0.01))"
   ]
  },
  {
   "cell_type": "code",
   "execution_count": 7,
   "metadata": {},
   "outputs": [
    {
     "name": "stdout",
     "output_type": "stream",
     "text": [
      "epoch 1, loss 1.0640, train acc 0.606, test acc 0.771\n",
      "epoch 2, loss 0.5784, train acc 0.784, test acc 0.796\n",
      "epoch 3, loss 0.5086, train acc 0.815, test acc 0.835\n",
      "epoch 4, loss 0.4727, train acc 0.827, test acc 0.840\n",
      "epoch 5, loss 0.4464, train acc 0.839, test acc 0.844\n",
      "epoch 6, loss 0.4284, train acc 0.845, test acc 0.845\n",
      "epoch 7, loss 0.4156, train acc 0.849, test acc 0.855\n",
      "epoch 8, loss 0.4007, train acc 0.856, test acc 0.861\n",
      "epoch 9, loss 0.3941, train acc 0.857, test acc 0.854\n",
      "epoch 10, loss 0.3828, train acc 0.861, test acc 0.865\n",
      "epoch 11, loss 0.3759, train acc 0.863, test acc 0.864\n",
      "epoch 12, loss 0.3705, train acc 0.865, test acc 0.864\n",
      "epoch 13, loss 0.3630, train acc 0.870, test acc 0.870\n",
      "epoch 14, loss 0.3588, train acc 0.870, test acc 0.868\n",
      "epoch 15, loss 0.3537, train acc 0.871, test acc 0.870\n",
      "epoch 16, loss 0.3473, train acc 0.874, test acc 0.871\n",
      "epoch 17, loss 0.3422, train acc 0.877, test acc 0.872\n",
      "epoch 18, loss 0.3407, train acc 0.877, test acc 0.876\n",
      "epoch 19, loss 0.3350, train acc 0.878, test acc 0.876\n",
      "epoch 20, loss 0.3318, train acc 0.880, test acc 0.876\n",
      "epoch 21, loss 0.3274, train acc 0.881, test acc 0.878\n",
      "epoch 22, loss 0.3256, train acc 0.882, test acc 0.875\n",
      "epoch 23, loss 0.3223, train acc 0.883, test acc 0.876\n",
      "epoch 24, loss 0.3181, train acc 0.886, test acc 0.880\n",
      "epoch 25, loss 0.3146, train acc 0.886, test acc 0.879\n",
      "epoch 26, loss 0.3109, train acc 0.886, test acc 0.874\n",
      "epoch 27, loss 0.3087, train acc 0.888, test acc 0.880\n",
      "epoch 28, loss 0.3056, train acc 0.890, test acc 0.878\n",
      "epoch 29, loss 0.3018, train acc 0.890, test acc 0.881\n",
      "epoch 30, loss 0.3005, train acc 0.890, test acc 0.882\n",
      "epoch 31, loss 0.2985, train acc 0.891, test acc 0.883\n",
      "epoch 32, loss 0.2957, train acc 0.894, test acc 0.881\n",
      "epoch 33, loss 0.2940, train acc 0.893, test acc 0.885\n",
      "epoch 34, loss 0.2902, train acc 0.895, test acc 0.885\n",
      "epoch 35, loss 0.2882, train acc 0.895, test acc 0.882\n",
      "epoch 36, loss 0.2862, train acc 0.896, test acc 0.881\n",
      "epoch 37, loss 0.2837, train acc 0.897, test acc 0.883\n",
      "epoch 38, loss 0.2798, train acc 0.899, test acc 0.883\n",
      "epoch 39, loss 0.2807, train acc 0.898, test acc 0.882\n",
      "epoch 40, loss 0.2784, train acc 0.898, test acc 0.886\n",
      "epoch 41, loss 0.2757, train acc 0.900, test acc 0.883\n",
      "epoch 42, loss 0.2721, train acc 0.901, test acc 0.888\n",
      "epoch 43, loss 0.2714, train acc 0.902, test acc 0.883\n",
      "epoch 44, loss 0.2673, train acc 0.903, test acc 0.889\n",
      "epoch 45, loss 0.2668, train acc 0.902, test acc 0.891\n",
      "epoch 46, loss 0.2643, train acc 0.904, test acc 0.889\n",
      "epoch 47, loss 0.2634, train acc 0.904, test acc 0.889\n",
      "epoch 48, loss 0.2616, train acc 0.905, test acc 0.890\n",
      "epoch 49, loss 0.2596, train acc 0.905, test acc 0.889\n",
      "epoch 50, loss 0.2551, train acc 0.908, test acc 0.885\n"
     ]
    },
    {
     "data": {
      "text/plain": [
       "361.01097345352173"
      ]
     },
     "execution_count": 7,
     "metadata": {},
     "output_type": "execute_result"
    }
   ],
   "source": [
    "batch_size = 256\n",
    "train_iter, test_iter = d2l.load_data_fashion_mnist(batch_size)\n",
    "\n",
    "loss = gloss.SoftmaxCrossEntropyLoss()\n",
    "trainer = gluon.Trainer(net.collect_params(), 'sgd', {'learning_rate': 0.5})\n",
    "num_epochs = 50\n",
    "start = time()\n",
    "d2l.train_ch3(net, train_iter, test_iter, loss, num_epochs, batch_size, None,\n",
    "              None, trainer)\n",
    "time() - start"
   ]
  },
  {
   "cell_type": "code",
   "execution_count": null,
   "metadata": {},
   "outputs": [],
   "source": []
  }
 ],
 "metadata": {
  "kernelspec": {
   "display_name": "Python 3",
   "language": "python",
   "name": "python3"
  },
  "language_info": {
   "codemirror_mode": {
    "name": "ipython",
    "version": 3
   },
   "file_extension": ".py",
   "mimetype": "text/x-python",
   "name": "python",
   "nbconvert_exporter": "python",
   "pygments_lexer": "ipython3",
   "version": "3.7.3"
  }
 },
 "nbformat": 4,
 "nbformat_minor": 2
}
