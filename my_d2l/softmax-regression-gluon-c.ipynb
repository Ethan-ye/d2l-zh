{
 "cells": [
  {
   "cell_type": "code",
   "execution_count": 1,
   "metadata": {},
   "outputs": [],
   "source": [
    "%matplotlib inline\n",
    "import d2lzh as d2l\n",
    "from mxnet import gluon, init\n",
    "from mxnet.gluon import loss as gloss, nn"
   ]
  },
  {
   "cell_type": "code",
   "execution_count": 2,
   "metadata": {},
   "outputs": [],
   "source": [
    "batch_size = 256\n",
    "train_iter, test_iter = d2l.load_data_fashion_mnist(batch_size)"
   ]
  },
  {
   "cell_type": "code",
   "execution_count": 39,
   "metadata": {},
   "outputs": [],
   "source": [
    "net = nn.Sequential()\n",
    "net.add(nn.Dense(10))\n",
    "net.initialize(init.Normal(sigma=0.01))"
   ]
  },
  {
   "cell_type": "code",
   "execution_count": 50,
   "metadata": {},
   "outputs": [],
   "source": [
    "loss = gloss.SoftmaxCrossEntropyLoss()"
   ]
  },
  {
   "cell_type": "code",
   "execution_count": 51,
   "metadata": {},
   "outputs": [],
   "source": [
    "trainer = gluon.Trainer(net.collect_params(), 'sgd', {'learning_rate': 0.15})"
   ]
  },
  {
   "cell_type": "code",
   "execution_count": 48,
   "metadata": {},
   "outputs": [
    {
     "name": "stdout",
     "output_type": "stream",
     "text": [
      "epoch 1, loss 0.4009, train acc 0.862, test acc 0.858\n",
      "epoch 2, loss 0.4026, train acc 0.861, test acc 0.859\n",
      "epoch 3, loss 0.3996, train acc 0.862, test acc 0.852\n",
      "epoch 4, loss 0.4001, train acc 0.862, test acc 0.861\n",
      "epoch 5, loss 0.3997, train acc 0.862, test acc 0.858\n",
      "epoch 6, loss 0.3981, train acc 0.861, test acc 0.860\n",
      "epoch 7, loss 0.3980, train acc 0.862, test acc 0.857\n",
      "epoch 8, loss 0.3974, train acc 0.863, test acc 0.851\n",
      "epoch 9, loss 0.3976, train acc 0.862, test acc 0.856\n",
      "epoch 10, loss 0.3971, train acc 0.862, test acc 0.858\n",
      "epoch 11, loss 0.3949, train acc 0.863, test acc 0.848\n",
      "epoch 12, loss 0.3949, train acc 0.864, test acc 0.856\n",
      "epoch 13, loss 0.3949, train acc 0.863, test acc 0.854\n",
      "epoch 14, loss 0.3951, train acc 0.863, test acc 0.860\n",
      "epoch 15, loss 0.3942, train acc 0.863, test acc 0.859\n",
      "epoch 16, loss 0.3923, train acc 0.864, test acc 0.856\n",
      "epoch 17, loss 0.3936, train acc 0.863, test acc 0.858\n",
      "epoch 18, loss 0.3945, train acc 0.863, test acc 0.859\n",
      "epoch 19, loss 0.3912, train acc 0.864, test acc 0.856\n",
      "epoch 20, loss 0.3929, train acc 0.865, test acc 0.852\n"
     ]
    }
   ],
   "source": [
    "num_epochs = 20\n",
    "d2l.train_ch3(net, train_iter, test_iter, loss, num_epochs, batch_size, None,\n",
    "              None, trainer)"
   ]
  },
  {
   "cell_type": "code",
   "execution_count": 45,
   "metadata": {},
   "outputs": [
    {
     "name": "stdout",
     "output_type": "stream",
     "text": [
      "epoch 1, loss 0.4173, train acc 0.856, test acc 0.854\n",
      "epoch 2, loss 0.4127, train acc 0.858, test acc 0.858\n",
      "epoch 3, loss 0.4132, train acc 0.858, test acc 0.855\n",
      "epoch 4, loss 0.4132, train acc 0.858, test acc 0.855\n",
      "epoch 5, loss 0.4114, train acc 0.858, test acc 0.858\n"
     ]
    }
   ],
   "source": [
    "num_epochs = 5\n",
    "d2l.train_ch3(net, train_iter, test_iter, loss, num_epochs, batch_size, None,\n",
    "              None, trainer)"
   ]
  },
  {
   "cell_type": "code",
   "execution_count": 47,
   "metadata": {},
   "outputs": [
    {
     "name": "stdout",
     "output_type": "stream",
     "text": [
      "epoch 1, loss 0.4044, train acc 0.860, test acc 0.858\n",
      "epoch 2, loss 0.4045, train acc 0.860, test acc 0.853\n",
      "epoch 3, loss 0.4042, train acc 0.860, test acc 0.858\n",
      "epoch 4, loss 0.4027, train acc 0.862, test acc 0.856\n",
      "epoch 5, loss 0.4018, train acc 0.861, test acc 0.857\n"
     ]
    }
   ],
   "source": [
    "num_epochs = 5\n",
    "d2l.train_ch3(net, train_iter, test_iter, loss, num_epochs, batch_size, None,\n",
    "              None, trainer)"
   ]
  },
  {
   "cell_type": "code",
   "execution_count": null,
   "metadata": {},
   "outputs": [],
   "source": []
  }
 ],
 "metadata": {
  "kernelspec": {
   "display_name": "Python 3",
   "language": "python",
   "name": "python3"
  },
  "language_info": {
   "codemirror_mode": {
    "name": "ipython",
    "version": 3
   },
   "file_extension": ".py",
   "mimetype": "text/x-python",
   "name": "python",
   "nbconvert_exporter": "python",
   "pygments_lexer": "ipython3",
   "version": "3.7.3"
  }
 },
 "nbformat": 4,
 "nbformat_minor": 2
}
